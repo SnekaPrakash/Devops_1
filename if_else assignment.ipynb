{
 "cells": [
  {
   "cell_type": "code",
   "execution_count": null,
   "id": "6ae7ba85",
   "metadata": {},
   "outputs": [],
   "source": [
    "5. Check if a number is divisible by both 5 and 3.\n",
    "6. Grading system using if, elif, and else.\n",
    "7. Check if a person is eligible to vote (age ≥ 18).\n",
    "8. Check if a number is even or odd.\n",
    "9. Compare two strings to check if they are equal.\n",
    "10. Check if a triangle is equilateral, isosceles, or scalene.\n",
    "\twhen all the side are equal in triangle - Equilateral triangle\n",
    "\twhen any two sides are equal in trinale - Isosceles triangle\n",
    "\twhen all the sides are not equal - Scalene triangle\n",
    "11. Check if a character is an uppercase letter.(e.g. \"hello\")\n",
    "12. Check if a number lies within a certain range (e.g., between 10 and 20).\n",
    "13. Determine if a number is prime.\n",
    "14. Check if a person can drive based on age.\n",
    "15. Check if a string is a palindrome.(e.g. bot side meaning is same- \"madam\",\"racecar\")\n",
    "16. Check if a number is a multiple of 7.\n",
    "17. Determine if a number is a power of 2.\n",
    "18. Determine if the sum of two numbers is even or odd.\n",
    "19. Compare the lengths of two lists.\n",
    "20. Check if a day is a weekday or weekend.\n",
    "\n",
    "nested if else problem\n",
    "Problem 1: BMI calculation and weight category classification.\n",
    "Problem 2: Day of the week based on an integer input.\n",
    "Problem 3: Ticket price calculation based on age.\n",
    "\n",
    "resturent order system.\n",
    "ticket booking system"
   ]
  }
 ],
 "metadata": {
  "kernelspec": {
   "display_name": "Python 3 (ipykernel)",
   "language": "python",
   "name": "python3"
  },
  "language_info": {
   "codemirror_mode": {
    "name": "ipython",
    "version": 3
   },
   "file_extension": ".py",
   "mimetype": "text/x-python",
   "name": "python",
   "nbconvert_exporter": "python",
   "pygments_lexer": "ipython3",
   "version": "3.10.9"
  }
 },
 "nbformat": 4,
 "nbformat_minor": 5
}
